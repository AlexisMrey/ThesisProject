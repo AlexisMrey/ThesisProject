{
 "cells": [
  {
   "cell_type": "markdown",
   "id": "624488bd-d26e-42f9-978e-ce4b5a2dca6a",
   "metadata": {},
   "source": [
    "## Docker\n",
    "\n",
    "command to pull jupyter notebook image:\n",
    "`docker run -v\n",
    "localpath:/home/jovyan/work -p 8888:8888 -e JUPYTER_ENABLE_LAB=yes -e JUPYTER_TOKEN=password -e GRANT_SUDO=yes --name jupyter -d jupyter/datascience-notebook:latest`"
   ]
  },
  {
   "cell_type": "code",
   "execution_count": null,
   "id": "3e20e522-1d52-4dfc-a655-5dafb5ec6b7b",
   "metadata": {},
   "outputs": [],
   "source": []
  }
 ],
 "metadata": {
  "kernelspec": {
   "display_name": "Python 3 (ipykernel)",
   "language": "python",
   "name": "python3"
  },
  "language_info": {
   "codemirror_mode": {
    "name": "ipython",
    "version": 3
   },
   "file_extension": ".py",
   "mimetype": "text/x-python",
   "name": "python",
   "nbconvert_exporter": "python",
   "pygments_lexer": "ipython3",
   "version": "3.11.6"
  }
 },
 "nbformat": 4,
 "nbformat_minor": 5
}
