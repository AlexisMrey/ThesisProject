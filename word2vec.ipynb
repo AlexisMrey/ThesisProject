{
 "cells": [
  {
   "cell_type": "markdown",
   "metadata": {},
   "source": [
    "## First approach using Word2vec for text embedding"
   ]
  },
  {
   "cell_type": "code",
   "execution_count": 2,
   "metadata": {},
   "outputs": [],
   "source": [
    "import pandas as pd\n",
    "import numpy as np\n",
    "\n",
    "import gensim"
   ]
  },
  {
   "cell_type": "markdown",
   "metadata": {},
   "source": [
    "### Para cuentas de gasto"
   ]
  },
  {
   "cell_type": "code",
   "execution_count": 3,
   "metadata": {},
   "outputs": [
    {
     "data": {
      "text/html": [
       "<div>\n",
       "<style scoped>\n",
       "    .dataframe tbody tr th:only-of-type {\n",
       "        vertical-align: middle;\n",
       "    }\n",
       "\n",
       "    .dataframe tbody tr th {\n",
       "        vertical-align: top;\n",
       "    }\n",
       "\n",
       "    .dataframe thead th {\n",
       "        text-align: right;\n",
       "    }\n",
       "</style>\n",
       "<table border=\"1\" class=\"dataframe\">\n",
       "  <thead>\n",
       "    <tr style=\"text-align: right;\">\n",
       "      <th></th>\n",
       "      <th>id</th>\n",
       "      <th>tipo_proyecto_id</th>\n",
       "      <th>cog</th>\n",
       "      <th>d_cog</th>\n",
       "    </tr>\n",
       "  </thead>\n",
       "  <tbody>\n",
       "    <tr>\n",
       "      <th>0</th>\n",
       "      <td>1</td>\n",
       "      <td>1</td>\n",
       "      <td>1000</td>\n",
       "      <td>SERVICIOS PERSONALES</td>\n",
       "    </tr>\n",
       "    <tr>\n",
       "      <th>1</th>\n",
       "      <td>2</td>\n",
       "      <td>1</td>\n",
       "      <td>1100</td>\n",
       "      <td>REMUNERACIONES AL PERSONAL DE CARÁCTER PERMANENTE</td>\n",
       "    </tr>\n",
       "    <tr>\n",
       "      <th>2</th>\n",
       "      <td>3</td>\n",
       "      <td>1</td>\n",
       "      <td>113</td>\n",
       "      <td>Sueldos base al personal permanente</td>\n",
       "    </tr>\n",
       "    <tr>\n",
       "      <th>3</th>\n",
       "      <td>4</td>\n",
       "      <td>1</td>\n",
       "      <td>1131</td>\n",
       "      <td>Sueldos base al personal académico permanente</td>\n",
       "    </tr>\n",
       "    <tr>\n",
       "      <th>4</th>\n",
       "      <td>5</td>\n",
       "      <td>1</td>\n",
       "      <td>1132</td>\n",
       "      <td>Sueldos base al personal administrativo perman...</td>\n",
       "    </tr>\n",
       "    <tr>\n",
       "      <th>5</th>\n",
       "      <td>6</td>\n",
       "      <td>1</td>\n",
       "      <td>1133</td>\n",
       "      <td>Sueldos base al personal mandos medios, interm...</td>\n",
       "    </tr>\n",
       "    <tr>\n",
       "      <th>6</th>\n",
       "      <td>7</td>\n",
       "      <td>1</td>\n",
       "      <td>1200</td>\n",
       "      <td>REMUNERACIONES AL PERSONAL DE CARÁCTER TRANSIT...</td>\n",
       "    </tr>\n",
       "    <tr>\n",
       "      <th>7</th>\n",
       "      <td>8</td>\n",
       "      <td>1</td>\n",
       "      <td>121</td>\n",
       "      <td>Honorarios asimilables a salarios</td>\n",
       "    </tr>\n",
       "    <tr>\n",
       "      <th>8</th>\n",
       "      <td>9</td>\n",
       "      <td>1</td>\n",
       "      <td>1211</td>\n",
       "      <td>Honorarios asimilables a salarios personal aca...</td>\n",
       "    </tr>\n",
       "    <tr>\n",
       "      <th>9</th>\n",
       "      <td>10</td>\n",
       "      <td>1</td>\n",
       "      <td>1212</td>\n",
       "      <td>Honorarios asimilables a salarios personal adm...</td>\n",
       "    </tr>\n",
       "  </tbody>\n",
       "</table>\n",
       "</div>"
      ],
      "text/plain": [
       "   id  tipo_proyecto_id   cog  \\\n",
       "0   1                 1  1000   \n",
       "1   2                 1  1100   \n",
       "2   3                 1   113   \n",
       "3   4                 1  1131   \n",
       "4   5                 1  1132   \n",
       "5   6                 1  1133   \n",
       "6   7                 1  1200   \n",
       "7   8                 1   121   \n",
       "8   9                 1  1211   \n",
       "9  10                 1  1212   \n",
       "\n",
       "                                               d_cog  \n",
       "0                               SERVICIOS PERSONALES  \n",
       "1  REMUNERACIONES AL PERSONAL DE CARÁCTER PERMANENTE  \n",
       "2                Sueldos base al personal permanente  \n",
       "3      Sueldos base al personal académico permanente  \n",
       "4  Sueldos base al personal administrativo perman...  \n",
       "5  Sueldos base al personal mandos medios, interm...  \n",
       "6  REMUNERACIONES AL PERSONAL DE CARÁCTER TRANSIT...  \n",
       "7                  Honorarios asimilables a salarios  \n",
       "8  Honorarios asimilables a salarios personal aca...  \n",
       "9  Honorarios asimilables a salarios personal adm...  "
      ]
     },
     "execution_count": 3,
     "metadata": {},
     "output_type": "execute_result"
    }
   ],
   "source": [
    "#imortación de datos\n",
    "df_cg = pd.read_excel('/home/jovyan/work/cuentas_gasto.xlsx')\n",
    "df_cg.iloc[0:10]"
   ]
  },
  {
   "cell_type": "code",
   "execution_count": 4,
   "metadata": {},
   "outputs": [
    {
     "data": {
      "text/plain": [
       "0                                [servicios, personales]\n",
       "1       [remuneraciones, personal, carácter, permanente]\n",
       "2                  [sueldos, base, personal, permanente]\n",
       "3       [sueldos, base, personal, académico, permanente]\n",
       "4      [sueldos, base, personal, administrativo, perm...\n",
       "                             ...                        \n",
       "585                                 [reactivos, insumos]\n",
       "586                                [cuotas, inscripcion]\n",
       "587                   [apoyo, para, material, didáctico]\n",
       "588                                      [instalaciones]\n",
       "589                              [póliza, mantenimiento]\n",
       "Name: d_cog, Length: 590, dtype: object"
      ]
     },
     "execution_count": 4,
     "metadata": {},
     "output_type": "execute_result"
    }
   ],
   "source": [
    "text_processed = df_cg.d_cog.apply(lambda text:gensim.utils.simple_preprocess(text, min_len=4))\n",
    "text_processed "
   ]
  },
  {
   "cell_type": "code",
   "execution_count": 5,
   "metadata": {},
   "outputs": [],
   "source": [
    "model = gensim.models.Word2Vec(\n",
    "    window=4,\n",
    "    min_count=2,\n",
    "    workers=6\n",
    ")\n",
    "\n",
    "model.build_vocab(text_processed, progress_per=500)"
   ]
  },
  {
   "cell_type": "code",
   "execution_count": 6,
   "metadata": {},
   "outputs": [
    {
     "data": {
      "text/plain": [
       "(6588, 10485)"
      ]
     },
     "execution_count": 6,
     "metadata": {},
     "output_type": "execute_result"
    }
   ],
   "source": [
    "model.train(text_processed, total_examples=model.corpus_count, epochs=model.epochs)"
   ]
  },
  {
   "cell_type": "code",
   "execution_count": 7,
   "metadata": {},
   "outputs": [
    {
     "data": {
      "text/plain": [
       "[('servidores', 0.23951469361782074),\n",
       " ('gestión', 0.2288135141134262),\n",
       " ('comerciales', 0.22705486416816711),\n",
       " ('otras', 0.21289587020874023),\n",
       " ('estímulos', 0.20880089700222015),\n",
       " ('inversión', 0.2027464359998703),\n",
       " ('amortización', 0.20271936058998108),\n",
       " ('software', 0.19569683074951172),\n",
       " ('grupal', 0.19569313526153564),\n",
       " ('documentos', 0.19457469880580902)]"
      ]
     },
     "execution_count": 7,
     "metadata": {},
     "output_type": "execute_result"
    }
   ],
   "source": [
    "model.wv.most_similar('instalaciones')"
   ]
  },
  {
   "cell_type": "code",
   "execution_count": 8,
   "metadata": {},
   "outputs": [
    {
     "data": {
      "text/plain": [
       "array([ 2.6529317e-03,  1.2513287e-03, -2.6260323e-03,  9.5740268e-03,\n",
       "        2.8884802e-03,  3.6415316e-03, -8.8850257e-04,  1.6141307e-03,\n",
       "        6.2962114e-03, -1.1722341e-03,  3.0337060e-03, -1.1721196e-03,\n",
       "        5.1175430e-03,  3.5746652e-03,  2.6243811e-03, -5.6694294e-03,\n",
       "       -4.6312604e-03,  4.1155694e-03, -6.0021342e-03, -1.3410200e-03,\n",
       "       -6.7453872e-04,  3.6976226e-03, -8.3091343e-03,  8.8881934e-03,\n",
       "       -1.7052402e-03, -5.2224211e-03,  3.7781917e-03, -2.0591558e-03,\n",
       "       -8.4968889e-03, -4.4628489e-03,  1.5634452e-05, -9.0866862e-03,\n",
       "        6.0733740e-04,  2.0376486e-03, -3.5804505e-03,  3.0369349e-03,\n",
       "        2.5630118e-03,  9.8499153e-03,  1.1554293e-03,  1.3725266e-03,\n",
       "        2.9228365e-03, -2.3324785e-03, -8.9300843e-03,  8.0213370e-03,\n",
       "       -1.3864191e-03, -9.7420840e-03, -6.6698748e-03, -4.1755894e-03,\n",
       "        4.4125076e-03,  5.2853385e-03,  6.4409249e-03, -7.1796612e-03,\n",
       "        6.9301651e-04, -2.8689953e-03, -5.5660675e-03,  7.7184485e-03,\n",
       "        3.9715176e-03, -3.0114509e-03, -8.9841345e-03, -4.8255189e-03,\n",
       "       -6.7090947e-04,  7.8518195e-03,  6.1290157e-03, -8.7979231e-03,\n",
       "       -1.0386059e-02,  7.2848527e-03, -2.1681739e-03, -3.0338774e-03,\n",
       "        5.1527424e-03, -5.4746214e-03,  4.8291450e-03, -1.4100180e-04,\n",
       "       -6.2424494e-03, -4.3287375e-05,  6.8220738e-03,  9.7227879e-03,\n",
       "        2.4147755e-03,  5.0489255e-03, -5.4504932e-03, -4.7506372e-04,\n",
       "       -5.4737525e-03,  1.1737496e-03, -2.4011657e-03, -3.1471867e-03,\n",
       "       -7.4543483e-03,  9.7047742e-03,  3.0854465e-03, -1.7701542e-03,\n",
       "       -3.6217228e-03,  7.6902467e-03, -6.2114135e-03,  3.4811525e-03,\n",
       "        7.6391263e-04,  8.6778644e-03,  7.5108781e-03, -2.5274097e-03,\n",
       "        2.7063889e-03, -1.8556508e-03, -9.7127864e-03, -2.7423063e-03],\n",
       "      dtype=float32)"
      ]
     },
     "execution_count": 8,
     "metadata": {},
     "output_type": "execute_result"
    }
   ],
   "source": [
    "model.wv['mantenimiento']\n"
   ]
  },
  {
   "cell_type": "code",
   "execution_count": 9,
   "metadata": {},
   "outputs": [
    {
     "data": {
      "text/plain": [
       "0.053354543"
      ]
     },
     "execution_count": 9,
     "metadata": {},
     "output_type": "execute_result"
    }
   ],
   "source": [
    "model.wv.similarity('personal', 'grupal')"
   ]
  },
  {
   "cell_type": "markdown",
   "metadata": {},
   "source": [
    "\n",
    "### Para articulos"
   ]
  },
  {
   "cell_type": "code",
   "execution_count": 10,
   "metadata": {},
   "outputs": [
    {
     "name": "stdout",
     "output_type": "stream",
     "text": [
      "<class 'pandas.core.frame.DataFrame'>\n",
      "RangeIndex: 97369 entries, 0 to 97368\n",
      "Data columns (total 14 columns):\n",
      " #   Column         Non-Null Count  Dtype  \n",
      "---  ------         --------------  -----  \n",
      " 0   id             97369 non-null  int64  \n",
      " 1   origen_id      97369 non-null  int64  \n",
      " 2   origen_type    96939 non-null  object \n",
      " 3   articulo       97369 non-null  object \n",
      " 4   cantidad       97369 non-null  float64\n",
      " 5   impuesto       97369 non-null  int64  \n",
      " 6   costo          97369 non-null  float64\n",
      " 7   descuento      97369 non-null  float64\n",
      " 8   monto          97369 non-null  float64\n",
      " 9   oc_id          97369 non-null  int64  \n",
      " 10  unidad         97220 non-null  object \n",
      " 11  inventariable  97369 non-null  int64  \n",
      " 12  no_cotizado    97369 non-null  int64  \n",
      " 13  deleted_at     97369 non-null  object \n",
      "dtypes: float64(4), int64(6), object(4)\n",
      "memory usage: 10.4+ MB\n"
     ]
    }
   ],
   "source": [
    "df_art = pd.read_csv('/home/jovyan/work/articulos.csv')\n",
    "df_art.info()"
   ]
  },
  {
   "cell_type": "code",
   "execution_count": 11,
   "metadata": {},
   "outputs": [
    {
     "data": {
      "text/plain": [
       "0                                               [abrasivo]\n",
       "1                         [taquete, expansor, tipo, broca]\n",
       "2                              [tornillos, rosca, corrida]\n",
       "3        [taquete, expansor, tipo, cuerda, diámetro, ro...\n",
       "4                                             [pija, lath]\n",
       "                               ...                        \n",
       "97364      [taza, kabbi, cerámica, impresa, tinta, diseño]\n",
       "97365    [sutura, sequilon, nylon, monofilamento, sutur...\n",
       "97366    [racks, para, carga, pesada, largo, ancho, alt...\n",
       "97367    [servicio, mantenimiento, general, limpieza, p...\n",
       "97368    [racks, para, carga, pesada, largo, ancho, alt...\n",
       "Name: articulo, Length: 97369, dtype: object"
      ]
     },
     "execution_count": 11,
     "metadata": {},
     "output_type": "execute_result"
    }
   ],
   "source": [
    "text_processed_art = df_art.articulo.apply(lambda text:gensim.utils.simple_preprocess(text, min_len=4))\n",
    "text_processed_art "
   ]
  },
  {
   "cell_type": "code",
   "execution_count": 12,
   "metadata": {},
   "outputs": [],
   "source": [
    "art_model = gensim.models.Word2Vec(\n",
    "    window=10,\n",
    "    min_count=2,\n",
    "    workers=6\n",
    ")\n",
    "\n",
    "art_model.build_vocab(text_processed_art, progress_per=1000)"
   ]
  },
  {
   "cell_type": "code",
   "execution_count": 13,
   "metadata": {},
   "outputs": [
    {
     "data": {
      "text/plain": [
       "(3122401, 3343470)"
      ]
     },
     "execution_count": 13,
     "metadata": {},
     "output_type": "execute_result"
    }
   ],
   "source": [
    "art_model.train(text_processed_art, total_examples=art_model.corpus_count, epochs=art_model.epochs)"
   ]
  },
  {
   "cell_type": "code",
   "execution_count": 14,
   "metadata": {},
   "outputs": [
    {
     "data": {
      "text/plain": [
       "[('reparación', 0.9396077990531921),\n",
       " ('difractometro', 0.9177221655845642),\n",
       " ('arcos', 0.9127128720283508),\n",
       " ('remplazo', 0.9083824157714844),\n",
       " ('correctivos', 0.9073820114135742),\n",
       " ('póliza', 0.9050681591033936),\n",
       " ('mantenimiento', 0.9037003517150879),\n",
       " ('incluyen', 0.9001067876815796),\n",
       " ('refacciones', 0.8953447341918945),\n",
       " ('liners', 0.8947370648384094)]"
      ]
     },
     "execution_count": 14,
     "metadata": {},
     "output_type": "execute_result"
    }
   ],
   "source": [
    "art_model.wv.most_similar('servicio')\n"
   ]
  },
  {
   "cell_type": "markdown",
   "metadata": {},
   "source": [
    "## New try"
   ]
  },
  {
   "cell_type": "code",
   "execution_count": 28,
   "metadata": {},
   "outputs": [
    {
     "name": "stdout",
     "output_type": "stream",
     "text": [
      "<class 'pandas.core.frame.DataFrame'>\n",
      "RangeIndex: 10000 entries, 0 to 9999\n",
      "Data columns (total 3 columns):\n",
      " #   Column    Non-Null Count  Dtype \n",
      "---  ------    --------------  ----- \n",
      " 0   articulo  10000 non-null  object\n",
      " 1   cog_id    10000 non-null  int64 \n",
      " 2   d_cog     10000 non-null  object\n",
      "dtypes: int64(1), object(2)\n",
      "memory usage: 234.5+ KB\n"
     ]
    }
   ],
   "source": [
    "import pandas as pd\n",
    "import torch \n",
    "from torch.utils.data import Dataset\n",
    "from transformers import DistilBertTokenizer, DistilBertForSequenceClassification, Trainer, TrainingArguments\n",
    "from sklearn.model_selection import train_test_split\n",
    "\n",
    "df_articles = pd.read_csv('/home/jovyan/work/articulos_updated.csv')\n",
    "df_articles.info()"
   ]
  },
  {
   "cell_type": "code",
   "execution_count": 49,
   "metadata": {},
   "outputs": [
    {
     "data": {
      "text/html": [
       "<div>\n",
       "<style scoped>\n",
       "    .dataframe tbody tr th:only-of-type {\n",
       "        vertical-align: middle;\n",
       "    }\n",
       "\n",
       "    .dataframe tbody tr th {\n",
       "        vertical-align: top;\n",
       "    }\n",
       "\n",
       "    .dataframe thead th {\n",
       "        text-align: right;\n",
       "    }\n",
       "</style>\n",
       "<table border=\"1\" class=\"dataframe\">\n",
       "  <thead>\n",
       "    <tr style=\"text-align: right;\">\n",
       "      <th></th>\n",
       "      <th>articulo</th>\n",
       "      <th>cog_id</th>\n",
       "      <th>d_cog</th>\n",
       "    </tr>\n",
       "  </thead>\n",
       "  <tbody>\n",
       "    <tr>\n",
       "      <th>0</th>\n",
       "      <td>\\t\\r\\nISBN 9780201626742\\tTITULO The Early Uni...</td>\n",
       "      <td>5</td>\n",
       "      <td>Libros</td>\n",
       "    </tr>\n",
       "    <tr>\n",
       "      <th>1</th>\n",
       "      <td>\\r\\n\\r\\n\\r\\nPLUMA AZUL MOD. B2P Gel Roller 0.7</td>\n",
       "      <td>0</td>\n",
       "      <td>Materiales, útiles y equipos menores de oficina</td>\n",
       "    </tr>\n",
       "    <tr>\n",
       "      <th>2</th>\n",
       "      <td>\\r\\n\\r\\nPLUMA ROJA MOD. B2P Gel Roller 0.7</td>\n",
       "      <td>0</td>\n",
       "      <td>Materiales, útiles y equipos menores de oficina</td>\n",
       "    </tr>\n",
       "    <tr>\n",
       "      <th>3</th>\n",
       "      <td>\\r\\n2-HYDROXYETHYL METHACRYLATE, CONTAINS &lt;&amp; C...</td>\n",
       "      <td>21</td>\n",
       "      <td>Otros productos químicos</td>\n",
       "    </tr>\n",
       "    <tr>\n",
       "      <th>4</th>\n",
       "      <td>\\r\\nALDRICH(R) ROUND-BOTTOM STORAGE FLASK W&amp; C...</td>\n",
       "      <td>21</td>\n",
       "      <td>Otros productos químicos</td>\n",
       "    </tr>\n",
       "    <tr>\n",
       "      <th>...</th>\n",
       "      <td>...</td>\n",
       "      <td>...</td>\n",
       "      <td>...</td>\n",
       "    </tr>\n",
       "    <tr>\n",
       "      <th>9995</th>\n",
       "      <td>YODURO POTASIO A.S.C. 500 gr (FERMONT)</td>\n",
       "      <td>21</td>\n",
       "      <td>Otros productos químicos</td>\n",
       "    </tr>\n",
       "    <tr>\n",
       "      <th>9996</th>\n",
       "      <td>ZAPAPICO ZP5MX\\t</td>\n",
       "      <td>27</td>\n",
       "      <td>Herramientas menores</td>\n",
       "    </tr>\n",
       "    <tr>\n",
       "      <th>9997</th>\n",
       "      <td>ZAPOS AZUL COFLEX PARA WC\\r\\n</td>\n",
       "      <td>14</td>\n",
       "      <td>Otros materiales y artículos de construcción y...</td>\n",
       "    </tr>\n",
       "    <tr>\n",
       "      <th>9998</th>\n",
       "      <td>ZINC Zinc chloride anhydrous 500 gr. no. catal...</td>\n",
       "      <td>15</td>\n",
       "      <td>Productos químicos básicos</td>\n",
       "    </tr>\n",
       "    <tr>\n",
       "      <th>9999</th>\n",
       "      <td>ZINC Zinc polvo 95 % G. R. para determinación ...</td>\n",
       "      <td>21</td>\n",
       "      <td>Otros productos químicos</td>\n",
       "    </tr>\n",
       "  </tbody>\n",
       "</table>\n",
       "<p>10000 rows × 3 columns</p>\n",
       "</div>"
      ],
      "text/plain": [
       "                                               articulo  cog_id  \\\n",
       "0     \\t\\r\\nISBN 9780201626742\\tTITULO The Early Uni...       5   \n",
       "1        \\r\\n\\r\\n\\r\\nPLUMA AZUL MOD. B2P Gel Roller 0.7       0   \n",
       "2            \\r\\n\\r\\nPLUMA ROJA MOD. B2P Gel Roller 0.7       0   \n",
       "3     \\r\\n2-HYDROXYETHYL METHACRYLATE, CONTAINS <& C...      21   \n",
       "4     \\r\\nALDRICH(R) ROUND-BOTTOM STORAGE FLASK W& C...      21   \n",
       "...                                                 ...     ...   \n",
       "9995             YODURO POTASIO A.S.C. 500 gr (FERMONT)      21   \n",
       "9996                                   ZAPAPICO ZP5MX\\t      27   \n",
       "9997                      ZAPOS AZUL COFLEX PARA WC\\r\\n      14   \n",
       "9998  ZINC Zinc chloride anhydrous 500 gr. no. catal...      15   \n",
       "9999  ZINC Zinc polvo 95 % G. R. para determinación ...      21   \n",
       "\n",
       "                                                  d_cog  \n",
       "0                                                Libros  \n",
       "1       Materiales, útiles y equipos menores de oficina  \n",
       "2       Materiales, útiles y equipos menores de oficina  \n",
       "3                              Otros productos químicos  \n",
       "4                              Otros productos químicos  \n",
       "...                                                 ...  \n",
       "9995                           Otros productos químicos  \n",
       "9996                               Herramientas menores  \n",
       "9997  Otros materiales y artículos de construcción y...  \n",
       "9998                         Productos químicos básicos  \n",
       "9999                           Otros productos químicos  \n",
       "\n",
       "[10000 rows x 3 columns]"
      ]
     },
     "execution_count": 49,
     "metadata": {},
     "output_type": "execute_result"
    }
   ],
   "source": [
    "df_articles[\"cog_id\"] = df_articles[\"cog_id\"].astype('category').cat.codes\n",
    "df_articles.iloc[:]"
   ]
  },
  {
   "cell_type": "markdown",
   "metadata": {},
   "source": [
    "## DestilBERT"
   ]
  },
  {
   "cell_type": "code",
   "execution_count": 50,
   "metadata": {},
   "outputs": [
    {
     "name": "stdout",
     "output_type": "stream",
     "text": [
      "training dfs\n",
      "<class 'pandas.core.series.Series'>\n",
      "Index: 8000 entries, 9254 to 7270\n",
      "Series name: articulo\n",
      "Non-Null Count  Dtype \n",
      "--------------  ----- \n",
      "8000 non-null   object\n",
      "dtypes: object(1)\n",
      "memory usage: 125.0+ KB\n",
      "None\n",
      "<class 'pandas.core.series.Series'>\n",
      "Index: 8000 entries, 9254 to 7270\n",
      "Series name: cog_id\n",
      "Non-Null Count  Dtype\n",
      "--------------  -----\n",
      "8000 non-null   int8 \n",
      "dtypes: int8(1)\n",
      "memory usage: 70.3 KB\n",
      "None\n",
      "test dfs\n",
      "<class 'pandas.core.series.Series'>\n",
      "Index: 2000 entries, 6252 to 6929\n",
      "Series name: articulo\n",
      "Non-Null Count  Dtype \n",
      "--------------  ----- \n",
      "2000 non-null   object\n",
      "dtypes: object(1)\n",
      "memory usage: 31.2+ KB\n",
      "None\n",
      "<class 'pandas.core.series.Series'>\n",
      "Index: 2000 entries, 6252 to 6929\n",
      "Series name: cog_id\n",
      "Non-Null Count  Dtype\n",
      "--------------  -----\n",
      "2000 non-null   int8 \n",
      "dtypes: int8(1)\n",
      "memory usage: 17.6 KB\n",
      "None\n"
     ]
    }
   ],
   "source": [
    "train_texts, test_texts, train_labels, test_labels = train_test_split(\n",
    "    df_articles[\"articulo\"], df_articles[\"cog_id\"], test_size=0.2, random_state=42\n",
    ")\n",
    "\n",
    "print(\"training dfs\")\n",
    "print(train_texts.info())\n",
    "print(train_labels.info())\n",
    "\n",
    "print(\"test dfs\")\n",
    "print(test_texts.info())\n",
    "print(test_labels.info())"
   ]
  },
  {
   "cell_type": "code",
   "execution_count": 52,
   "metadata": {},
   "outputs": [
    {
     "data": {
      "text/plain": [
       "97"
      ]
     },
     "execution_count": 52,
     "metadata": {},
     "output_type": "execute_result"
    }
   ],
   "source": [
    "# Get number of unique classes\n",
    "num_classes = df_articles[\"cog_id\"].nunique()\n",
    "\n",
    "num_classes"
   ]
  },
  {
   "cell_type": "code",
   "execution_count": 23,
   "metadata": {},
   "outputs": [
    {
     "data": {
      "application/vnd.jupyter.widget-view+json": {
       "model_id": "c79b3868f87c42339746d281fc02797c",
       "version_major": 2,
       "version_minor": 0
      },
      "text/plain": [
       "model.safetensors:   0%|          | 0.00/268M [00:00<?, ?B/s]"
      ]
     },
     "metadata": {},
     "output_type": "display_data"
    },
    {
     "name": "stderr",
     "output_type": "stream",
     "text": [
      "Some weights of DistilBertForSequenceClassification were not initialized from the model checkpoint at distilbert-base-uncased and are newly initialized: ['classifier.bias', 'classifier.weight', 'pre_classifier.bias', 'pre_classifier.weight']\n",
      "You should probably TRAIN this model on a down-stream task to be able to use it for predictions and inference.\n"
     ]
    }
   ],
   "source": [
    "# Training Arguments\n",
    "training_args = TrainingArguments(\n",
    "    output_dir=\"./results\",\n",
    "    num_train_epochs=3,\n",
    "    per_device_train_batch_size=8,\n",
    "    per_device_eval_batch_size=8,\n",
    "    warmup_steps=500,\n",
    "    weight_decay=1e-5,\n",
    "    eval_steps=100,\n",
    "    logging_dir=\"./logs\",\n",
    ")\n",
    "\n",
    "model = DistilBertForSequenceClassification.from_pretrained(\"distilbert-base-uncased\", num_labels=num_classes)"
   ]
  },
  {
   "cell_type": "code",
   "execution_count": 56,
   "metadata": {},
   "outputs": [
    {
     "data": {
      "text/plain": [
       "{'input_ids': tensor([[  101,  4309,  2099,  ...,     0,     0,     0],\n",
       "         [  101,  5033, 12928,  ...,     0,     0,     0],\n",
       "         [  101, 11122, 10875,  ...,     0,     0,     0],\n",
       "         ...,\n",
       "         [  101,  5622, 12618,  ...,     0,     0,     0],\n",
       "         [  101, 21451, 16786,  ...,     0,     0,     0],\n",
       "         [  101, 22088,  2050,  ...,     0,     0,     0]]),\n",
       " 'attention_mask': tensor([[1, 1, 1,  ..., 0, 0, 0],\n",
       "         [1, 1, 1,  ..., 0, 0, 0],\n",
       "         [1, 1, 1,  ..., 0, 0, 0],\n",
       "         ...,\n",
       "         [1, 1, 1,  ..., 0, 0, 0],\n",
       "         [1, 1, 1,  ..., 0, 0, 0],\n",
       "         [1, 1, 1,  ..., 0, 0, 0]]),\n",
       " 'labels': tensor([ 1, 12,  2,  ...,  5, 31,  0])}"
      ]
     },
     "execution_count": 56,
     "metadata": {},
     "output_type": "execute_result"
    }
   ],
   "source": [
    "# Load DistilBERT Tokenizer\n",
    "tokenizer = DistilBertTokenizer.from_pretrained(\"distilbert-base-uncased\")\n",
    "\n",
    "# Custom Dataset Class\n",
    "class ArticleDataset(Dataset):\n",
    "    def __init__(self, texts, labels, tokenizer, max_length=256):\n",
    "        self.texts = texts.tolist()\n",
    "        self.labels = labels.tolist()\n",
    "        self.tokenizer = tokenizer\n",
    "        self.max_length = max_length\n",
    "\n",
    "    def __len__(self):\n",
    "        return len(self.texts)\n",
    "\n",
    "    def __getitem__(self, idx):\n",
    "        encoding = self.tokenizer(\n",
    "            self.texts[idx],\n",
    "            truncation=True,\n",
    "            padding=\"max_length\",\n",
    "            max_length=self.max_length,\n",
    "            return_tensors=\"pt\",\n",
    "        )\n",
    "        item = {key: val.squeeze(0) for key, val in encoding.items()}\n",
    "        item[\"labels\"] = torch.tensor(self.labels[idx], dtype=torch.long)\n",
    "        return item\n",
    "\n",
    "# Convert Data to PyTorch Dataset\n",
    "train_dataset = ArticleDataset(train_texts, train_labels, tokenizer)\n",
    "test_dataset = ArticleDataset(test_texts, test_labels, tokenizer)\n",
    "\n",
    "train_dataset[:]"
   ]
  },
  {
   "cell_type": "code",
   "execution_count": 57,
   "metadata": {},
   "outputs": [
    {
     "name": "stdout",
     "output_type": "stream",
     "text": [
      "Unique labels: [ 1 12  2 15 19  0 59 95 14 73 21 30 60 72 29  6  5 96 85 82 57 79 31 34\n",
      " 87 70 56 27 24 61 22 38 28 18 42 62 47 67 64 69 23 54 40  7 32 80 41 52\n",
      " 46 75 74  9 20 44 58 25 63 90 11 86 39 65 13 94 89 88 55 66 91 37 76 78\n",
      " 33 45 10 92 36 71 26 84  3 93 50 35 16 77 53  4  8 51 48 43 49 17 81 83\n",
      " 68]\n",
      "Max label: 96\n",
      "Min label: 0\n"
     ]
    },
    {
     "data": {
      "text/plain": [
       "97"
      ]
     },
     "execution_count": 57,
     "metadata": {},
     "output_type": "execute_result"
    }
   ],
   "source": [
    "print(\"Unique labels:\", train_labels.unique())\n",
    "print(\"Max label:\", train_labels.max())\n",
    "print(\"Min label:\", train_labels.min())\n",
    "\n",
    "\n",
    "df_articles[\"cog_id\"].nunique()\n"
   ]
  },
  {
   "cell_type": "code",
   "execution_count": 58,
   "metadata": {},
   "outputs": [],
   "source": [
    "trainer = Trainer(\n",
    "    model=model,\n",
    "    args=training_args,\n",
    "    train_dataset=train_dataset,\n",
    "    eval_dataset=test_dataset,\n",
    ")"
   ]
  },
  {
   "cell_type": "code",
   "execution_count": null,
   "metadata": {},
   "outputs": [
    {
     "data": {
      "text/html": [
       "\n",
       "    <div>\n",
       "      \n",
       "      <progress value='2069' max='3000' style='width:300px; height:20px; vertical-align: middle;'></progress>\n",
       "      [2069/3000 9:54:06 < 4:27:35, 0.06 it/s, Epoch 2.07/3]\n",
       "    </div>\n",
       "    <table border=\"1\" class=\"dataframe\">\n",
       "  <thead>\n",
       " <tr style=\"text-align: left;\">\n",
       "      <th>Step</th>\n",
       "      <th>Training Loss</th>\n",
       "    </tr>\n",
       "  </thead>\n",
       "  <tbody>\n",
       "    <tr>\n",
       "      <td>500</td>\n",
       "      <td>3.045000</td>\n",
       "    </tr>\n",
       "    <tr>\n",
       "      <td>1000</td>\n",
       "      <td>1.530900</td>\n",
       "    </tr>\n",
       "    <tr>\n",
       "      <td>1500</td>\n",
       "      <td>1.111100</td>\n",
       "    </tr>\n",
       "    <tr>\n",
       "      <td>2000</td>\n",
       "      <td>0.968800</td>\n",
       "    </tr>\n",
       "  </tbody>\n",
       "</table><p>"
      ],
      "text/plain": [
       "<IPython.core.display.HTML object>"
      ]
     },
     "metadata": {},
     "output_type": "display_data"
    }
   ],
   "source": [
    "trainer.train()"
   ]
  }
 ],
 "metadata": {
  "kernelspec": {
   "display_name": "Python 3 (ipykernel)",
   "language": "python",
   "name": "python3"
  },
  "language_info": {
   "codemirror_mode": {
    "name": "ipython",
    "version": 3
   },
   "file_extension": ".py",
   "mimetype": "text/x-python",
   "name": "python",
   "nbconvert_exporter": "python",
   "pygments_lexer": "ipython3",
   "version": "3.11.6"
  }
 },
 "nbformat": 4,
 "nbformat_minor": 2
}
